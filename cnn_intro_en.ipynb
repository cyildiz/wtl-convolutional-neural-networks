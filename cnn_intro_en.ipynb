{
 "cells": [
  {
   "cell_type": "markdown",
   "metadata": {},
   "source": [
    "## Convolutional Layers"
   ]
  },
  {
   "cell_type": "markdown",
   "metadata": {},
   "source": [
    "Note the following points about the example in the image below.\n",
    "- In a dense layer, a neuron is connected to **all input neurons**.\n",
    "    - The input neurons are arranged in a **vector**.\n",
    "    - The weights are also arranged in a vector.\n",
    "        - The weight vector has the **same shape** as the input.\n",
    "        - The  dot product between the input and the weights is calculated.\n",
    "- In a conv layer, a neuron is connected only to the input neurons within its **receptive field**. In the example below, the receptive field is a 3x3 square area.\n",
    "    - The input neurons are arranged in a **multi-dimensional array**.\n",
    "    - The weights are also arranged in a multi-dimensional array (i.e. tensor), called a **filter**.\n",
    "        - The weight tensor has the **same shape** as the receptive field. In particular, they have the **same number of channels** (which is one in this example).\n",
    "        - The dot product between the weights tensor and the receptive field is calculated. This operation is also called **convolution** (denoted with a '*')."
   ]
  },
  {
   "cell_type": "markdown",
   "metadata": {},
   "source": [
    "<img src=\"images/dense_vs_conv.png\" alt=\"drawing\" width=\"600\" align=\"center\"/><br>\n",
    "A Dense-Layer cell versus a Conv-Layer cell"
   ]
  },
  {
   "cell_type": "markdown",
   "metadata": {},
   "source": [
    "The filter is moved over the image, one pixel at a time, and its inner product with all 3x3 areas of the input is calculated. The result is a 3x4 matrix that is called a **feature map** (or an output channel).\n",
    "\n",
    "The size of the feature map come from the fact that the receptive field can be moved 3 times in the vertical and 4 times in the horizontal direction.\n",
    "\n",
    "You can verify that there is the following relationship between the input and output dimensions: if the filter size is f and the input size is n, then the filter can be moved $n - (f-1)$ times over the input, one pixel at a time.\n",
    "\n",
    "If we want the output to have the same size as the input, we pad the image with zeros in such a way, that the dimensions match:\n"
   ]
  },
  {
   "cell_type": "code",
   "execution_count": null,
   "metadata": {},
   "outputs": [],
   "source": []
  }
 ],
 "metadata": {
  "language_info": {
   "name": "python"
  }
 },
 "nbformat": 4,
 "nbformat_minor": 2
}
